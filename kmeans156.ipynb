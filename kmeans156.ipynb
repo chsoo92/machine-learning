{
 "cells": [
  {
   "cell_type": "code",
   "execution_count": null,
   "metadata": {},
   "outputs": [],
   "source": [
    "import numpy as np\n",
    "import itertools\n",
    "import matplotlib.pyplot as plt\n",
    "import pandas as pd\n",
    "\n",
    "\n",
    "# X: inputs to be clustered, with n-by-d size\n",
    "# k: number of clusters\n",
    "# epsilon - convergence criterion\n",
    "# C: centroids\n",
    "def KMeans(X, k, initial_label, epsilon) :\n",
    "    n, d = X.shape\n",
    "    new_label = initial_label\n",
    "    C = np.zeros((k,d)) # starts with empty centroids\n",
    "    L_new = -1 # starts with negative loss\n",
    "    while True :\n",
    "        \n",
    "        label = new_label\n",
    "        L = L_new\n",
    "        \n",
    "        # obtain new centroid for each cluster\n",
    "        for j in range(k) :\n",
    "            index_label = (label == j)\n",
    "            if any(index_label) :\n",
    "                C[j,:] = np.mean(X[index_label,:],0)\n",
    "        \n",
    "        #assign labels \n",
    "        norm_C= np.dot(np.ones((n,1)),np.reshape(np.power(np.linalg.norm(C,axis = 1),2),(1,k)))\n",
    "        objective_function = -2*(np.dot(X,np.transpose(C))) + norm_C #objective function\n",
    "        new_label = np.argmin(objective_function,axis=1)#cluster that gives smallest loss\n",
    "        \n",
    "        # obtain loss\n",
    "        sum_norm_x = np.power(np.linalg.norm(X),2)\n",
    "        L_new = (sum([objective_function[i,new_label[i]] for i in range (n)]) + sum_norm_x) / n\n",
    "        \n",
    "        # check if the new change is really small\n",
    "        if (L_new > (L - epsilon)) and (L != -1) : \n",
    "            break\n",
    "    return new_label, L_new, C\n",
    "\n",
    "# k: number of clusters\n",
    "# target_label: true label\n",
    "# cluster_error: error in clustering\n",
    "def ClusterError(k,target_label,label) :\n",
    "    min_error = 1000 # initialize error big enough to be replaced later\n",
    "    \n",
    "    for permutation in itertools.permutations(range(k)) :\n",
    "        label_permuted = [permutation[i] for i in label]\n",
    "        cur_error = np.mean([target_label[i] != label_permuted[i] for i in range(len(target_label))])\n",
    "        if cur_error < min_error :\n",
    "            min_error = cur_error\n",
    "    cluster_error = min_error\n",
    "    return cluster_error\n",
    "\n",
    "\n",
    "# L_lower - SVD lower bound\n",
    "def LowerBound(X,k) :\n",
    "    n,d = X.shape\n",
    "    u,s,vh = np.linalg.svd(X)\n",
    "    L_lower = np.sum(np.power(s[k:],2))/n\n",
    "    return L_lower"
   ]
  },
  {
   "cell_type": "code",
   "execution_count": 49,
   "metadata": {},
   "outputs": [
    {
     "ename": "KeyboardInterrupt",
     "evalue": "",
     "output_type": "error",
     "traceback": [
      "\u001b[0;31m---------------------------------------------------------------------------\u001b[0m",
      "\u001b[0;31mKeyboardInterrupt\u001b[0m                         Traceback (most recent call last)",
      "\u001b[0;32m<ipython-input-49-490c65b90dfe>\u001b[0m in \u001b[0;36m<module>\u001b[0;34m\u001b[0m\n\u001b[1;32m     23\u001b[0m         \u001b[0mLoss\u001b[0m\u001b[0;34m[\u001b[0m\u001b[0mi\u001b[0m\u001b[0;34m,\u001b[0m\u001b[0mj\u001b[0m\u001b[0;34m]\u001b[0m \u001b[0;34m=\u001b[0m \u001b[0mL\u001b[0m\u001b[0;34m\u001b[0m\u001b[0;34m\u001b[0m\u001b[0m\n\u001b[1;32m     24\u001b[0m         \u001b[0mError\u001b[0m\u001b[0;34m[\u001b[0m\u001b[0mi\u001b[0m\u001b[0;34m,\u001b[0m\u001b[0mj\u001b[0m\u001b[0;34m]\u001b[0m \u001b[0;34m=\u001b[0m \u001b[0mClusterError\u001b[0m\u001b[0;34m(\u001b[0m\u001b[0mk\u001b[0m\u001b[0;34m,\u001b[0m\u001b[0mtarget_label\u001b[0m\u001b[0;34m,\u001b[0m\u001b[0mlabel\u001b[0m\u001b[0;34m)\u001b[0m\u001b[0;34m\u001b[0m\u001b[0;34m\u001b[0m\u001b[0m\n\u001b[0;32m---> 25\u001b[0;31m         \u001b[0mLoss_lower\u001b[0m\u001b[0;34m[\u001b[0m\u001b[0mi\u001b[0m\u001b[0;34m,\u001b[0m\u001b[0mj\u001b[0m\u001b[0;34m]\u001b[0m \u001b[0;34m=\u001b[0m \u001b[0mLowerBound\u001b[0m\u001b[0;34m(\u001b[0m\u001b[0mX\u001b[0m\u001b[0;34m,\u001b[0m\u001b[0mk\u001b[0m\u001b[0;34m)\u001b[0m\u001b[0;34m\u001b[0m\u001b[0;34m\u001b[0m\u001b[0m\n\u001b[0m\u001b[1;32m     26\u001b[0m \u001b[0mmean_Error\u001b[0m \u001b[0;34m=\u001b[0m \u001b[0mnp\u001b[0m\u001b[0;34m.\u001b[0m\u001b[0mmean\u001b[0m\u001b[0;34m(\u001b[0m\u001b[0mError\u001b[0m\u001b[0;34m,\u001b[0m\u001b[0;36m1\u001b[0m\u001b[0;34m)\u001b[0m\u001b[0;34m\u001b[0m\u001b[0;34m\u001b[0m\u001b[0m\n\u001b[1;32m     27\u001b[0m \u001b[0;34m\u001b[0m\u001b[0m\n",
      "\u001b[0;32m<ipython-input-29-ae9eca366d86>\u001b[0m in \u001b[0;36mLowerBound\u001b[0;34m(X, k)\u001b[0m\n\u001b[1;32m     57\u001b[0m \u001b[0;32mdef\u001b[0m \u001b[0mLowerBound\u001b[0m\u001b[0;34m(\u001b[0m\u001b[0mX\u001b[0m\u001b[0;34m,\u001b[0m\u001b[0mk\u001b[0m\u001b[0;34m)\u001b[0m \u001b[0;34m:\u001b[0m\u001b[0;34m\u001b[0m\u001b[0;34m\u001b[0m\u001b[0m\n\u001b[1;32m     58\u001b[0m     \u001b[0mn\u001b[0m\u001b[0;34m,\u001b[0m\u001b[0md\u001b[0m \u001b[0;34m=\u001b[0m \u001b[0mX\u001b[0m\u001b[0;34m.\u001b[0m\u001b[0mshape\u001b[0m\u001b[0;34m\u001b[0m\u001b[0;34m\u001b[0m\u001b[0m\n\u001b[0;32m---> 59\u001b[0;31m     \u001b[0mu\u001b[0m\u001b[0;34m,\u001b[0m\u001b[0ms\u001b[0m\u001b[0;34m,\u001b[0m\u001b[0mvh\u001b[0m \u001b[0;34m=\u001b[0m \u001b[0mnp\u001b[0m\u001b[0;34m.\u001b[0m\u001b[0mlinalg\u001b[0m\u001b[0;34m.\u001b[0m\u001b[0msvd\u001b[0m\u001b[0;34m(\u001b[0m\u001b[0mX\u001b[0m\u001b[0;34m)\u001b[0m\u001b[0;34m\u001b[0m\u001b[0;34m\u001b[0m\u001b[0m\n\u001b[0m\u001b[1;32m     60\u001b[0m     \u001b[0mL_lower\u001b[0m \u001b[0;34m=\u001b[0m \u001b[0mnp\u001b[0m\u001b[0;34m.\u001b[0m\u001b[0msum\u001b[0m\u001b[0;34m(\u001b[0m\u001b[0mnp\u001b[0m\u001b[0;34m.\u001b[0m\u001b[0mpower\u001b[0m\u001b[0;34m(\u001b[0m\u001b[0ms\u001b[0m\u001b[0;34m[\u001b[0m\u001b[0mk\u001b[0m\u001b[0;34m:\u001b[0m\u001b[0;34m]\u001b[0m\u001b[0;34m,\u001b[0m\u001b[0;36m2\u001b[0m\u001b[0;34m)\u001b[0m\u001b[0;34m)\u001b[0m\u001b[0;34m/\u001b[0m\u001b[0mn\u001b[0m\u001b[0;34m\u001b[0m\u001b[0;34m\u001b[0m\u001b[0m\n\u001b[1;32m     61\u001b[0m     \u001b[0;32mreturn\u001b[0m \u001b[0mL_lower\u001b[0m\u001b[0;34m\u001b[0m\u001b[0;34m\u001b[0m\u001b[0m\n",
      "\u001b[0;32m~/anaconda3/lib/python3.7/site-packages/numpy/linalg/linalg.py\u001b[0m in \u001b[0;36msvd\u001b[0;34m(a, full_matrices, compute_uv)\u001b[0m\n\u001b[1;32m   1560\u001b[0m \u001b[0;34m\u001b[0m\u001b[0m\n\u001b[1;32m   1561\u001b[0m         \u001b[0msignature\u001b[0m \u001b[0;34m=\u001b[0m \u001b[0;34m'D->DdD'\u001b[0m \u001b[0;32mif\u001b[0m \u001b[0misComplexType\u001b[0m\u001b[0;34m(\u001b[0m\u001b[0mt\u001b[0m\u001b[0;34m)\u001b[0m \u001b[0;32melse\u001b[0m \u001b[0;34m'd->ddd'\u001b[0m\u001b[0;34m\u001b[0m\u001b[0;34m\u001b[0m\u001b[0m\n\u001b[0;32m-> 1562\u001b[0;31m         \u001b[0mu\u001b[0m\u001b[0;34m,\u001b[0m \u001b[0ms\u001b[0m\u001b[0;34m,\u001b[0m \u001b[0mvh\u001b[0m \u001b[0;34m=\u001b[0m \u001b[0mgufunc\u001b[0m\u001b[0;34m(\u001b[0m\u001b[0ma\u001b[0m\u001b[0;34m,\u001b[0m \u001b[0msignature\u001b[0m\u001b[0;34m=\u001b[0m\u001b[0msignature\u001b[0m\u001b[0;34m,\u001b[0m \u001b[0mextobj\u001b[0m\u001b[0;34m=\u001b[0m\u001b[0mextobj\u001b[0m\u001b[0;34m)\u001b[0m\u001b[0;34m\u001b[0m\u001b[0;34m\u001b[0m\u001b[0m\n\u001b[0m\u001b[1;32m   1563\u001b[0m         \u001b[0mu\u001b[0m \u001b[0;34m=\u001b[0m \u001b[0mu\u001b[0m\u001b[0;34m.\u001b[0m\u001b[0mastype\u001b[0m\u001b[0;34m(\u001b[0m\u001b[0mresult_t\u001b[0m\u001b[0;34m,\u001b[0m \u001b[0mcopy\u001b[0m\u001b[0;34m=\u001b[0m\u001b[0;32mFalse\u001b[0m\u001b[0;34m)\u001b[0m\u001b[0;34m\u001b[0m\u001b[0;34m\u001b[0m\u001b[0m\n\u001b[1;32m   1564\u001b[0m         \u001b[0ms\u001b[0m \u001b[0;34m=\u001b[0m \u001b[0ms\u001b[0m\u001b[0;34m.\u001b[0m\u001b[0mastype\u001b[0m\u001b[0;34m(\u001b[0m\u001b[0m_realType\u001b[0m\u001b[0;34m(\u001b[0m\u001b[0mresult_t\u001b[0m\u001b[0;34m)\u001b[0m\u001b[0;34m,\u001b[0m \u001b[0mcopy\u001b[0m\u001b[0;34m=\u001b[0m\u001b[0;32mFalse\u001b[0m\u001b[0;34m)\u001b[0m\u001b[0;34m\u001b[0m\u001b[0;34m\u001b[0m\u001b[0m\n",
      "\u001b[0;31mKeyboardInterrupt\u001b[0m: "
     ]
    }
   ],
   "source": [
    "n = 10000\n",
    "d = 10\n",
    "k = 3\n",
    "s_values = np.linspace(0.5,10,20)\n",
    "trials = 10\n",
    "s_length = len(s_values)\n",
    "Loss = np.zeros((s_length,trials))\n",
    "Error = np.zeros((s_length,trials))\n",
    "Loss_lower = np.zeros((s_length,trials))\n",
    "for i in range(s_length) :\n",
    "    s = s_values[i]\n",
    "    for j in range(trials) :\n",
    "        \n",
    "        # make X to be clustered and randomly assign to a cluster\n",
    "        X = np.random.randn(n,d)\n",
    "        target_label = np.random.randint(k,size=n)\n",
    "        for p in range(n) :\n",
    "            X[p,target_label[p]] += s\n",
    "        # run KMeans\n",
    "        initial_label = np.random.randint(k,size=n)\n",
    "        epsilon = 1/1000000\n",
    "        label, L, C = KMeans(X,k,initial_label,epsilon)\n",
    "        Loss[i,j] = L\n",
    "        Error[i,j] = ClusterError(k,target_label,label)\n",
    "        Loss_lower[i,j] = LowerBound(X,k)\n",
    "mean_Error = np.mean(Error,1)\n",
    "\n",
    "print('s values:')\n",
    "print(s_values)\n",
    "print('mean error:')\n",
    "print(mean_Error)\n",
    "plt.plot(s_values,mean_Error,'o-')\n",
    "plt.xlabel('s')\n",
    "plt.ylabel('fraction missclassified')\n",
    "plt.title('Mean Fraction Missclassified')\n",
    "plt.savefig('FractionMissclassified.jpg')\n",
    "plt.close()"
   ]
  },
  {
   "cell_type": "code",
   "execution_count": 23,
   "metadata": {},
   "outputs": [
    {
     "data": {
      "image/png": "[encoded data removed]",
      "text/plain": [
       "<Figure size 432x288 with 1 Axes>"
      ]
     },
     "metadata": {
      "needs_background": "light"
     },
     "output_type": "display_data"
    }
   ],
   "source": [
    "plt.plot(s_values,mean_Error,'o-')\n",
    "plt.xlabel('s')\n",
    "plt.ylabel('fraction missclassified')\n",
    "plt.title('Mean Fraction Missclassified')\n",
    "plt.savefig('FractionMissclassified.jpg')"
   ]
  },
  {
   "cell_type": "code",
   "execution_count": 4,
   "metadata": {},
   "outputs": [
    {
     "ename": "SyntaxError",
     "evalue": "invalid syntax (<ipython-input-4-84c1d6c84102>, line 3)",
     "output_type": "error",
     "traceback": [
      "\u001b[0;36m  File \u001b[0;32m\"<ipython-input-4-84c1d6c84102>\"\u001b[0;36m, line \u001b[0;32m3\u001b[0m\n\u001b[0;31m    t.add_row(s_values)\u001b[0m\n\u001b[0m    ^\u001b[0m\n\u001b[0;31mSyntaxError\u001b[0m\u001b[0;31m:\u001b[0m invalid syntax\n"
     ]
    }
   ],
   "source": [
    "\n"
   ]
  },
  {
   "cell_type": "code",
   "execution_count": 6,
   "metadata": {},
   "outputs": [
    {
     "data": {
      "text/html": [
       "<div>\n",
       "<style scoped>\n",
       "    .dataframe tbody tr th:only-of-type {\n",
       "        vertical-align: middle;\n",
       "    }\n",
       "\n",
       "    .dataframe tbody tr th {\n",
       "        vertical-align: top;\n",
       "    }\n",
       "\n",
       "    .dataframe thead th {\n",
       "        text-align: right;\n",
       "    }\n",
       "</style>\n",
       "<table border=\"1\" class=\"dataframe\">\n",
       "  <thead>\n",
       "    <tr style=\"text-align: right;\">\n",
       "      <th></th>\n",
       "      <th></th>\n",
       "      <th></th>\n",
       "      <th></th>\n",
       "      <th></th>\n",
       "      <th></th>\n",
       "      <th></th>\n",
       "      <th></th>\n",
       "      <th></th>\n",
       "      <th></th>\n",
       "      <th></th>\n",
       "      <th></th>\n",
       "      <th></th>\n",
       "      <th></th>\n",
       "      <th></th>\n",
       "      <th></th>\n",
       "      <th></th>\n",
       "      <th></th>\n",
       "      <th></th>\n",
       "      <th></th>\n",
       "      <th></th>\n",
       "    </tr>\n",
       "  </thead>\n",
       "  <tbody>\n",
       "    <tr>\n",
       "      <th>0</th>\n",
       "      <td>0.5000</td>\n",
       "      <td>1.00000</td>\n",
       "      <td>1.50000</td>\n",
       "      <td>2.00000</td>\n",
       "      <td>2.50000</td>\n",
       "      <td>3.00000</td>\n",
       "      <td>3.50000</td>\n",
       "      <td>4.00000</td>\n",
       "      <td>4.50000</td>\n",
       "      <td>5.00000</td>\n",
       "      <td>5.5000</td>\n",
       "      <td>6.0</td>\n",
       "      <td>6.50000</td>\n",
       "      <td>7.0</td>\n",
       "      <td>7.5</td>\n",
       "      <td>8.0</td>\n",
       "      <td>8.50000</td>\n",
       "      <td>9.00000</td>\n",
       "      <td>9.50000</td>\n",
       "      <td>10.00000</td>\n",
       "    </tr>\n",
       "    <tr>\n",
       "      <th>1</th>\n",
       "      <td>0.5709</td>\n",
       "      <td>0.36806</td>\n",
       "      <td>0.23365</td>\n",
       "      <td>0.13466</td>\n",
       "      <td>0.06873</td>\n",
       "      <td>0.03186</td>\n",
       "      <td>0.01249</td>\n",
       "      <td>0.00496</td>\n",
       "      <td>0.00146</td>\n",
       "      <td>0.00037</td>\n",
       "      <td>0.0001</td>\n",
       "      <td>0.0</td>\n",
       "      <td>0.00001</td>\n",
       "      <td>0.0</td>\n",
       "      <td>0.0</td>\n",
       "      <td>0.0</td>\n",
       "      <td>0.04922</td>\n",
       "      <td>0.04935</td>\n",
       "      <td>0.04905</td>\n",
       "      <td>0.04992</td>\n",
       "    </tr>\n",
       "  </tbody>\n",
       "</table>\n",
       "</div>"
      ],
      "text/plain": [
       "                                                                          \\\n",
       "0  0.5000  1.00000  1.50000  2.00000  2.50000  3.00000  3.50000  4.00000   \n",
       "1  0.5709  0.36806  0.23365  0.13466  0.06873  0.03186  0.01249  0.00496   \n",
       "\n",
       "                                                                            \\\n",
       "0  4.50000  5.00000  5.5000  6.0  6.50000  7.0  7.5  8.0  8.50000  9.00000   \n",
       "1  0.00146  0.00037  0.0001  0.0  0.00001  0.0  0.0  0.0  0.04922  0.04935   \n",
       "\n",
       "                      \n",
       "0  9.50000  10.00000  \n",
       "1  0.04905   0.04992  "
      ]
     },
     "execution_count": 6,
     "metadata": {},
     "output_type": "execute_result"
    }
   ],
   "source": [
    "data = [s_values, mean_Error]\n",
    "df = pd.DataFrame(data)\n",
    "df.columns = [''] * len(df.columns)\n",
    "df"
   ]
  },
  {
   "cell_type": "code",
   "execution_count": 48,
   "metadata": {
    "scrolled": true
   },
   "outputs": [
    {
     "ename": "IndexError",
     "evalue": "tuple index out of range",
     "output_type": "error",
     "traceback": [
      "\u001b[0;31m---------------------------------------------------------------------------\u001b[0m",
      "\u001b[0;31mIndexError\u001b[0m                                Traceback (most recent call last)",
      "\u001b[0;32m<ipython-input-48-4cc3bd0c1b3f>\u001b[0m in \u001b[0;36m<module>\u001b[0;34m\u001b[0m\n\u001b[1;32m      1\u001b[0m \u001b[0;31m# PART B\u001b[0m\u001b[0;34m\u001b[0m\u001b[0;34m\u001b[0m\u001b[0;34m\u001b[0m\u001b[0m\n\u001b[0;32m----> 2\u001b[0;31m \u001b[0mmean_Loss\u001b[0m \u001b[0;34m=\u001b[0m \u001b[0mnp\u001b[0m\u001b[0;34m.\u001b[0m\u001b[0mmean\u001b[0m\u001b[0;34m(\u001b[0m\u001b[0mLoss\u001b[0m\u001b[0;34m,\u001b[0m\u001b[0;36m1\u001b[0m\u001b[0;34m)\u001b[0m\u001b[0;34m\u001b[0m\u001b[0;34m\u001b[0m\u001b[0m\n\u001b[0m\u001b[1;32m      3\u001b[0m \u001b[0mmean_Loss_lower\u001b[0m \u001b[0;34m=\u001b[0m \u001b[0mnp\u001b[0m\u001b[0;34m.\u001b[0m\u001b[0mmean\u001b[0m\u001b[0;34m(\u001b[0m\u001b[0mLoss_lower\u001b[0m\u001b[0;34m,\u001b[0m\u001b[0;36m1\u001b[0m\u001b[0;34m)\u001b[0m\u001b[0;34m\u001b[0m\u001b[0;34m\u001b[0m\u001b[0m\n\u001b[1;32m      4\u001b[0m \u001b[0mprint\u001b[0m\u001b[0;34m(\u001b[0m\u001b[0;34m'mean loss:'\u001b[0m\u001b[0;34m)\u001b[0m\u001b[0;34m\u001b[0m\u001b[0;34m\u001b[0m\u001b[0m\n\u001b[1;32m      5\u001b[0m \u001b[0mprint\u001b[0m\u001b[0;34m(\u001b[0m\u001b[0mmean_Loss\u001b[0m\u001b[0;34m)\u001b[0m\u001b[0;34m\u001b[0m\u001b[0;34m\u001b[0m\u001b[0m\n",
      "\u001b[0;32m~/anaconda3/lib/python3.7/site-packages/numpy/core/fromnumeric.py\u001b[0m in \u001b[0;36mmean\u001b[0;34m(a, axis, dtype, out, keepdims)\u001b[0m\n\u001b[1;32m   2918\u001b[0m \u001b[0;34m\u001b[0m\u001b[0m\n\u001b[1;32m   2919\u001b[0m     return _methods._mean(a, axis=axis, dtype=dtype,\n\u001b[0;32m-> 2920\u001b[0;31m                           out=out, **kwargs)\n\u001b[0m\u001b[1;32m   2921\u001b[0m \u001b[0;34m\u001b[0m\u001b[0m\n\u001b[1;32m   2922\u001b[0m \u001b[0;34m\u001b[0m\u001b[0m\n",
      "\u001b[0;32m~/anaconda3/lib/python3.7/site-packages/numpy/core/_methods.py\u001b[0m in \u001b[0;36m_mean\u001b[0;34m(a, axis, dtype, out, keepdims)\u001b[0m\n\u001b[1;32m     60\u001b[0m \u001b[0;34m\u001b[0m\u001b[0m\n\u001b[1;32m     61\u001b[0m     \u001b[0mis_float16_result\u001b[0m \u001b[0;34m=\u001b[0m \u001b[0;32mFalse\u001b[0m\u001b[0;34m\u001b[0m\u001b[0;34m\u001b[0m\u001b[0m\n\u001b[0;32m---> 62\u001b[0;31m     \u001b[0mrcount\u001b[0m \u001b[0;34m=\u001b[0m \u001b[0m_count_reduce_items\u001b[0m\u001b[0;34m(\u001b[0m\u001b[0marr\u001b[0m\u001b[0;34m,\u001b[0m \u001b[0maxis\u001b[0m\u001b[0;34m)\u001b[0m\u001b[0;34m\u001b[0m\u001b[0;34m\u001b[0m\u001b[0m\n\u001b[0m\u001b[1;32m     63\u001b[0m     \u001b[0;31m# Make this warning show up first\u001b[0m\u001b[0;34m\u001b[0m\u001b[0;34m\u001b[0m\u001b[0;34m\u001b[0m\u001b[0m\n\u001b[1;32m     64\u001b[0m     \u001b[0;32mif\u001b[0m \u001b[0mrcount\u001b[0m \u001b[0;34m==\u001b[0m \u001b[0;36m0\u001b[0m\u001b[0;34m:\u001b[0m\u001b[0;34m\u001b[0m\u001b[0;34m\u001b[0m\u001b[0m\n",
      "\u001b[0;32m~/anaconda3/lib/python3.7/site-packages/numpy/core/_methods.py\u001b[0m in \u001b[0;36m_count_reduce_items\u001b[0;34m(arr, axis)\u001b[0m\n\u001b[1;32m     53\u001b[0m     \u001b[0mitems\u001b[0m \u001b[0;34m=\u001b[0m \u001b[0;36m1\u001b[0m\u001b[0;34m\u001b[0m\u001b[0;34m\u001b[0m\u001b[0m\n\u001b[1;32m     54\u001b[0m     \u001b[0;32mfor\u001b[0m \u001b[0max\u001b[0m \u001b[0;32min\u001b[0m \u001b[0maxis\u001b[0m\u001b[0;34m:\u001b[0m\u001b[0;34m\u001b[0m\u001b[0;34m\u001b[0m\u001b[0m\n\u001b[0;32m---> 55\u001b[0;31m         \u001b[0mitems\u001b[0m \u001b[0;34m*=\u001b[0m \u001b[0marr\u001b[0m\u001b[0;34m.\u001b[0m\u001b[0mshape\u001b[0m\u001b[0;34m[\u001b[0m\u001b[0max\u001b[0m\u001b[0;34m]\u001b[0m\u001b[0;34m\u001b[0m\u001b[0;34m\u001b[0m\u001b[0m\n\u001b[0m\u001b[1;32m     56\u001b[0m     \u001b[0;32mreturn\u001b[0m \u001b[0mitems\u001b[0m\u001b[0;34m\u001b[0m\u001b[0;34m\u001b[0m\u001b[0m\n\u001b[1;32m     57\u001b[0m \u001b[0;34m\u001b[0m\u001b[0m\n",
      "\u001b[0;31mIndexError\u001b[0m: tuple index out of range"
     ]
    }
   ],
   "source": [
    "mean_Loss = np.mean(Loss,1)\n",
    "mean_Loss_lower = np.mean(Loss_lower,1)\n",
    "print('mean loss:')\n",
    "print(mean_Loss)\n",
    "print('mean loss lower bound:')\n",
    "print(mean_Loss_lower)\n",
    "plt.plot(s_values,meanLoss,'o-',label='KMeans loss')\n",
    "plt.plot(s_values,mean_Loss_lower,'o-',label='loss lower bound')\n",
    "plt.xlabel('s')\n",
    "plt.ylabel('Loss')\n",
    "plt.title('Comparing Loss with Lower Bound')\n",
    "plt.savefig('CompareWithLower.jpg')\n"
   ]
  },
  {
   "cell_type": "code",
   "execution_count": 58,
   "metadata": {},
   "outputs": [],
   "source": [
    "# PART C\n",
    "data = np.genfromtxt('seeds_dataset.txt',delimiter='\\t')\n",
    "n,d = data.shape\n",
    "d = d - 1\n",
    "X = data[:,:d]\n",
    "target_label = data[:,d] - 1\n",
    "trials = 10\n",
    "k = 3\n",
    "epsilon = 1e-6\n",
    "Loss = np.zeros(trials)\n",
    "Error = np.zeros(trials)\n",
    "for j in range(trials) :\n",
    "    initial_label = np.random.randint(k,size=n)\n",
    "    label,L,C = KMeans(X,k,initial_label,epsilon)\n",
    "    Loss[j] = L\n",
    "    Error[j] = ClusterError(k,target_label,label)\n",
    "Loss_lower_seeds = LowerBound(X,k)\n",
    "\n",
    "\n",
    "# pre-process the data by having each column mean 0 and std 1\n",
    "X_proc = np.zeros((n,d))\n",
    "for i in range(d) :\n",
    "    X_proc[:,i] = (X[:,i] - np.mean(X[:,i])) / np.std(X[:,i])\n",
    "\n",
    "LossNormal = np.zeros(trials)\n",
    "ErrorNormal = np.zeros(trials)\n",
    "for j in range(trials) :\n",
    "    initial_label = np.random.randint(k,size=n)\n",
    "    label,L,C = KMeans(X_proc,k,initial_label,epsilon)\n",
    "    LossNormal[j] = L\n",
    "    ErrorNormal[j] = ClusterError(k,target_label,label)\n",
    "Loss_lower_bound = LowerBound(X_proc,k)\n"
   ]
  },
  {
   "cell_type": "code",
   "execution_count": 34,
   "metadata": {},
   "outputs": [
    {
     "data": {
      "text/html": [
       "<div>\n",
       "<style scoped>\n",
       "    .dataframe tbody tr th:only-of-type {\n",
       "        vertical-align: middle;\n",
       "    }\n",
       "\n",
       "    .dataframe tbody tr th {\n",
       "        vertical-align: top;\n",
       "    }\n",
       "\n",
       "    .dataframe thead th {\n",
       "        text-align: right;\n",
       "    }\n",
       "</style>\n",
       "<table border=\"1\" class=\"dataframe\">\n",
       "  <thead>\n",
       "    <tr style=\"text-align: right;\">\n",
       "      <th></th>\n",
       "      <th>0</th>\n",
       "      <th>1</th>\n",
       "      <th>2</th>\n",
       "      <th>3</th>\n",
       "      <th>4</th>\n",
       "      <th>5</th>\n",
       "      <th>6</th>\n",
       "      <th>7</th>\n",
       "      <th>8</th>\n",
       "      <th>9</th>\n",
       "    </tr>\n",
       "  </thead>\n",
       "  <tbody>\n",
       "    <tr>\n",
       "      <th>0</th>\n",
       "      <td>2.803724</td>\n",
       "      <td>2.796755</td>\n",
       "      <td>2.796755</td>\n",
       "      <td>2.803724</td>\n",
       "      <td>2.796755</td>\n",
       "      <td>2.796755</td>\n",
       "      <td>2.803724</td>\n",
       "      <td>2.796755</td>\n",
       "      <td>2.796755</td>\n",
       "      <td>2.803724</td>\n",
       "    </tr>\n",
       "    <tr>\n",
       "      <th>1</th>\n",
       "      <td>0.109524</td>\n",
       "      <td>0.104762</td>\n",
       "      <td>0.104762</td>\n",
       "      <td>0.109524</td>\n",
       "      <td>0.104762</td>\n",
       "      <td>0.104762</td>\n",
       "      <td>0.109524</td>\n",
       "      <td>0.104762</td>\n",
       "      <td>0.104762</td>\n",
       "      <td>0.109524</td>\n",
       "    </tr>\n",
       "    <tr>\n",
       "      <th>2</th>\n",
       "      <td>23.000000</td>\n",
       "      <td>22.000000</td>\n",
       "      <td>22.000000</td>\n",
       "      <td>23.000000</td>\n",
       "      <td>22.000000</td>\n",
       "      <td>22.000000</td>\n",
       "      <td>23.000000</td>\n",
       "      <td>22.000000</td>\n",
       "      <td>22.000000</td>\n",
       "      <td>23.000000</td>\n",
       "    </tr>\n",
       "  </tbody>\n",
       "</table>\n",
       "</div>"
      ],
      "text/plain": [
       "           0          1          2          3          4          5  \\\n",
       "0   2.803724   2.796755   2.796755   2.803724   2.796755   2.796755   \n",
       "1   0.109524   0.104762   0.104762   0.109524   0.104762   0.104762   \n",
       "2  23.000000  22.000000  22.000000  23.000000  22.000000  22.000000   \n",
       "\n",
       "           6          7          8          9  \n",
       "0   2.803724   2.796755   2.796755   2.803724  \n",
       "1   0.109524   0.104762   0.104762   0.109524  \n",
       "2  23.000000  22.000000  22.000000  23.000000  "
      ]
     },
     "execution_count": 34,
     "metadata": {},
     "output_type": "execute_result"
    }
   ],
   "source": [
    "data = [Loss, Error, Error*n]\n",
    "df = pd.DataFrame(data)\n",
    "df"
   ]
  },
  {
   "cell_type": "code",
   "execution_count": 36,
   "metadata": {},
   "outputs": [
    {
     "data": {
      "text/html": [
       "<div>\n",
       "<style scoped>\n",
       "    .dataframe tbody tr th:only-of-type {\n",
       "        vertical-align: middle;\n",
       "    }\n",
       "\n",
       "    .dataframe tbody tr th {\n",
       "        vertical-align: top;\n",
       "    }\n",
       "\n",
       "    .dataframe thead th {\n",
       "        text-align: right;\n",
       "    }\n",
       "</style>\n",
       "<table border=\"1\" class=\"dataframe\">\n",
       "  <thead>\n",
       "    <tr style=\"text-align: right;\">\n",
       "      <th></th>\n",
       "      <th>0</th>\n",
       "      <th>1</th>\n",
       "      <th>2</th>\n",
       "      <th>3</th>\n",
       "      <th>4</th>\n",
       "      <th>5</th>\n",
       "      <th>6</th>\n",
       "      <th>7</th>\n",
       "      <th>8</th>\n",
       "      <th>9</th>\n",
       "    </tr>\n",
       "  </thead>\n",
       "  <tbody>\n",
       "    <tr>\n",
       "      <th>0</th>\n",
       "      <td>2.051509</td>\n",
       "      <td>2.050757</td>\n",
       "      <td>2.050757</td>\n",
       "      <td>2.050757</td>\n",
       "      <td>2.052993</td>\n",
       "      <td>2.050757</td>\n",
       "      <td>2.050757</td>\n",
       "      <td>2.053184</td>\n",
       "      <td>2.051509</td>\n",
       "      <td>2.051930</td>\n",
       "    </tr>\n",
       "    <tr>\n",
       "      <th>1</th>\n",
       "      <td>0.066667</td>\n",
       "      <td>0.080952</td>\n",
       "      <td>0.080952</td>\n",
       "      <td>0.080952</td>\n",
       "      <td>0.080952</td>\n",
       "      <td>0.080952</td>\n",
       "      <td>0.080952</td>\n",
       "      <td>0.061905</td>\n",
       "      <td>0.066667</td>\n",
       "      <td>0.071429</td>\n",
       "    </tr>\n",
       "    <tr>\n",
       "      <th>2</th>\n",
       "      <td>14.000000</td>\n",
       "      <td>17.000000</td>\n",
       "      <td>17.000000</td>\n",
       "      <td>17.000000</td>\n",
       "      <td>17.000000</td>\n",
       "      <td>17.000000</td>\n",
       "      <td>17.000000</td>\n",
       "      <td>13.000000</td>\n",
       "      <td>14.000000</td>\n",
       "      <td>15.000000</td>\n",
       "    </tr>\n",
       "  </tbody>\n",
       "</table>\n",
       "</div>"
      ],
      "text/plain": [
       "           0          1          2          3          4          5  \\\n",
       "0   2.051509   2.050757   2.050757   2.050757   2.052993   2.050757   \n",
       "1   0.066667   0.080952   0.080952   0.080952   0.080952   0.080952   \n",
       "2  14.000000  17.000000  17.000000  17.000000  17.000000  17.000000   \n",
       "\n",
       "           6          7          8          9  \n",
       "0   2.050757   2.053184   2.051509   2.051930  \n",
       "1   0.080952   0.061905   0.066667   0.071429  \n",
       "2  17.000000  13.000000  14.000000  15.000000  "
      ]
     },
     "execution_count": 36,
     "metadata": {},
     "output_type": "execute_result"
    }
   ],
   "source": [
    "dataNormal = [LossNormal, ErrorNormal, ErrorNormal*n]\n",
    "dfNormal = pd.DataFrame(data)\n",
    "dfNormal"
   ]
  },
  {
   "cell_type": "code",
   "execution_count": 52,
   "metadata": {},
   "outputs": [
    {
     "data": {
      "text/plain": [
       "790.4761904761905"
      ]
     },
     "execution_count": 52,
     "metadata": {},
     "output_type": "execute_result"
    }
   ],
   "source": [
    "np.mean(ErrorNormal*n)\n",
    "\n"
   ]
  },
  {
   "cell_type": "code",
   "execution_count": 51,
   "metadata": {},
   "outputs": [
    {
     "data": {
      "text/plain": [
       "675.645"
      ]
     },
     "execution_count": 51,
     "metadata": {},
     "output_type": "execute_result"
    }
   ],
   "source": [
    "np.mean(Error*n)\n"
   ]
  },
  {
   "cell_type": "code",
   "execution_count": 55,
   "metadata": {},
   "outputs": [
    {
     "name": "stdout",
     "output_type": "stream",
     "text": [
      "mean loss:\n",
      "[8.97110964 9.17594482 9.40457147 9.64610032 8.83383376 0.\n",
      " 0.         0.         0.         0.         0.         0.\n",
      " 0.         0.         0.         0.         0.         0.\n",
      " 0.         0.        ]\n",
      "mean loss lower bound:\n",
      "[6.9663583  6.99805972 6.99190698 7.00866153 5.61401935 0.\n",
      " 0.         0.         0.         0.         0.         0.\n",
      " 0.         0.         0.         0.         0.         0.\n",
      " 0.         0.        ]\n"
     ]
    },
    {
     "data": {
      "image/png": "[encoded data removed]",
      "text/plain": [
       "<Figure size 432x288 with 1 Axes>"
      ]
     },
     "metadata": {
      "needs_background": "light"
     },
     "output_type": "display_data"
    }
   ],
   "source": [
    "mean_Loss = np.mean(Loss,1)\n",
    "mean_Loss_lower = np.mean(Loss_lower,1)\n",
    "print('mean loss:')\n",
    "print(mean_Loss)\n",
    "print('mean loss lower bound:')\n",
    "print(mean_Loss_lower)\n",
    "plt.plot(s_values,mean_Loss,'o-',label='KMeans loss')\n",
    "plt.plot(s_values,mean_Loss_lower,'o-',label='loss lower bound')\n",
    "plt.xlabel('s')\n",
    "plt.ylabel('Loss')\n",
    "plt.title('Comparing Loss with Lower Bound')\n",
    "plt.savefig('CompareWithLower.jpg')"
   ]
  },
  {
   "cell_type": "code",
   "execution_count": 59,
   "metadata": {},
   "outputs": [
    {
     "data": {
      "text/plain": [
       "0.05593256596503759"
      ]
     },
     "execution_count": 59,
     "metadata": {},
     "output_type": "execute_result"
    }
   ],
   "source": [
    "Loss_lower_seeds\n"
   ]
  },
  {
   "cell_type": "code",
   "execution_count": 60,
   "metadata": {},
   "outputs": [
    {
     "data": {
      "text/plain": [
       "0.09322252847568852"
      ]
     },
     "execution_count": 60,
     "metadata": {},
     "output_type": "execute_result"
    }
   ],
   "source": [
    "Loss_lower_bound\n"
   ]
  },
  {
   "cell_type": "code",
   "execution_count": null,
   "metadata": {},
   "outputs": [],
   "source": []
  }
 ],
 "metadata": {
  "kernelspec": {
   "display_name": "Python 3",
   "language": "python",
   "name": "python3"
  },
  "language_info": {
   "codemirror_mode": {
    "name": "ipython",
    "version": 3
   },
   "file_extension": ".py",
   "mimetype": "text/x-python",
   "name": "python",
   "nbconvert_exporter": "python",
   "pygments_lexer": "ipython3",
   "version": "3.7.1"
  }
 },
 "nbformat": 4,
 "nbformat_minor": 2
}
